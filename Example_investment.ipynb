{
 "cells": [
  {
   "cell_type": "markdown",
   "metadata": {},
   "source": [
    "# Estimation of return rate on investment towards monthly return after some years"
   ]
  },
  {
   "cell_type": "markdown",
   "metadata": {},
   "source": [
    "## This is a small calculation for net present value(npv) of future cash flows for periodic investment and monthly return after the investment period. Using this, one can iteratively calculate the return rate of investment and use it for comparison with other investments"
   ]
  },
  {
   "cell_type": "markdown",
   "metadata": {},
   "source": [
    "### In this case, it is assumed that an amount of 200000 is paid each year for 12 years. From 13th year, the monthly income as declared by the insurance firm, 25237.23 is used as future cash inflows for 10 years. Further a maturity amount of 2407220 as given by the insurance firm is taken as inflow on the 22nd year. Net present value is calculated assuming some return rate. This value is adjusted till NPV becomes almost zero. Thus return rate is estimated for the investment."
   ]
  },
  {
   "cell_type": "code",
   "execution_count": 1,
   "metadata": {},
   "outputs": [],
   "source": [
    "import numpy as np   # python library called numpy"
   ]
  },
  {
   "cell_type": "code",
   "execution_count": 2,
   "metadata": {},
   "outputs": [],
   "source": [
    "cf1 = [-200000]*12 # array of payouts"
   ]
  },
  {
   "cell_type": "code",
   "execution_count": 3,
   "metadata": {},
   "outputs": [],
   "source": [
    "cf2 = [25237.23]*120  # array of payins, 10 yrs, monthly"
   ]
  },
  {
   "cell_type": "code",
   "execution_count": 4,
   "metadata": {},
   "outputs": [],
   "source": [
    "cf3 = 2407220 # Maturity benefit after 22 yrs"
   ]
  },
  {
   "cell_type": "code",
   "execution_count": 5,
   "metadata": {},
   "outputs": [
    {
     "name": "stdout",
     "output_type": "stream",
     "text": [
      "-1775762.6926396894\n"
     ]
    }
   ],
   "source": [
    "# calculate present value of payouts\n",
    "n1 = np.arange(0,12,1)\n",
    "\n",
    "pv1 = 0\n",
    "r = .0602      # yearly interest rate\n",
    "for n in n1:\n",
    "    pv1 = pv1 + cf1[n]/(1+r)**n\n",
    "print(pv1)  # net present value for payouts    "
   ]
  },
  {
   "cell_type": "code",
   "execution_count": 6,
   "metadata": {},
   "outputs": [
    {
     "name": "stdout",
     "output_type": "stream",
     "text": [
      "0.005016666666666667\n",
      "1110373.130396721\n"
     ]
    }
   ],
   "source": [
    "#calculate pv of monthly payins\n",
    "n2 = np.arange(0,120,1) # number of months of payins for 10 yrs\n",
    "pv2 = 0\n",
    "r1 = r/12    # monthly interest rate approx based on yearly interest\n",
    "print(r1)\n",
    "for n in n2:\n",
    "    pv2 = pv2 + cf2[n]/(1+r1)**(n+144) # exponent starts from 144\n",
    "print(pv2)  # net present value of monthly payins for 10 yrs"
   ]
  },
  {
   "cell_type": "code",
   "execution_count": 8,
   "metadata": {},
   "outputs": [
    {
     "name": "stdout",
     "output_type": "stream",
     "text": [
      "pv3 =  665248.9311151578\n",
      "total npv =  -140.63112781068776\n"
     ]
    }
   ],
   "source": [
    "#calculate pv of maturity payin and npv\n",
    "pv3 = cf3/(1+r)**22  # npv for maturity payment after 22 yrs\n",
    "print(\"pv3 = \", pv3)\n",
    "npv = pv1+pv2+pv3  #  npv\n",
    "print(\"total npv = \",npv)   # interest adjusted to make npv = 0"
   ]
  },
  {
   "cell_type": "markdown",
   "metadata": {},
   "source": [
    "#### The npv is calculated for the assumed interest. The interest value is changed till npv approaches zero. Here npv is calcualted to be as near to zero as -140, for the assumed interest of 6.02%. Hence the assumed interest is declared as rate of return."
   ]
  },
  {
   "cell_type": "code",
   "execution_count": 9,
   "metadata": {},
   "outputs": [
    {
     "name": "stdout",
     "output_type": "stream",
     "text": [
      "Rate of return =  6.02 %\n"
     ]
    }
   ],
   "source": [
    "# rate of interest\n",
    "print('Rate of return = ', r * 100, '%')"
   ]
  },
  {
   "cell_type": "code",
   "execution_count": null,
   "metadata": {},
   "outputs": [],
   "source": []
  }
 ],
 "metadata": {
  "kernelspec": {
   "display_name": "Python 3",
   "language": "python",
   "name": "python3"
  },
  "language_info": {
   "codemirror_mode": {
    "name": "ipython",
    "version": 3
   },
   "file_extension": ".py",
   "mimetype": "text/x-python",
   "name": "python",
   "nbconvert_exporter": "python",
   "pygments_lexer": "ipython3",
   "version": "3.8.5"
  }
 },
 "nbformat": 4,
 "nbformat_minor": 4
}
